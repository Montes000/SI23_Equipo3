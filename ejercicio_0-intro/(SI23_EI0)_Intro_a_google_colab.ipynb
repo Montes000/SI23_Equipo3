{
  "cells": [
    {
      "attachments": {},
      "cell_type": "markdown",
      "metadata": {
        "id": "CuQrgeE5Ml2E"
      },
      "source": [
        "# Introducción a Jupyter Notebook\n",
        "1. Primeros pasos (TODO)\n",
        "2. Entregas de ejercicios\n",
        "2. Orden de ejecución (TODO)\n",
        "3. Introducción a Python (TODO)\n",
        "4. Graficar \n",
        "\n",
        "Nota: Las secciones con la palabra TODO requieren acciones por parte del alumno\n",
        "\n",
        "# 1. Primeros pasos\n",
        "\n",
        "Un \"notebook\" está organizado en celdas. Existen dos tipos principales:\n",
        "1.  Celdas de código\n",
        "2.  Celdas de texto (por ejemplo esta)\n",
        "\n",
        "Cada celda se puede correr por separado y en cualquier orden que quieras. Para correr una celda necesitas activarla (por ejemplo haciendo click en ella). Las celdas de markdown pueden mostrar texto en *itálicas*(`*italica*`), **negritas**(`**italica**`) etc. Incluso permiten la notación matemática en  [$\\LaTeX$](https://www.overleaf.com/learn/latex/Mathematical_expressions):  \n",
        "\n",
        "$v = \\begin{bmatrix} 1  \\\\ 0 \n",
        "      \\end{bmatrix}$\n",
        "\n",
        "\n",
        "Practica transformar la siguiente fórmula de imagen a una fórmula de LaTeX en la siguiente celda.\n",
        "\n",
        "![images.png](data:image/png;base64,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)"
      ]
    },
    {
      "cell_type": "code",
      "execution_count": null,
      "metadata": {},
      "outputs": [],
      "source": [
        "\n"
      ]
    },
    {
      "attachments": {},
      "cell_type": "markdown",
      "metadata": {
        "id": "OjOcKJZJalq4"
      },
      "source": [
        "# 2. Indicaciones para entrega de ejercicios\n",
        "Resuelve los ejercicios agregando código donde encuentres la indicación `#TODO`\n",
        "\n",
        "Cada función que escribas deberá correr sin error. Para la evaluación del ejercicio correré el cuarderno utilizando la opción `Restart and run all` para evaluarte. Obtendras los puntos completos si las celdas corren sin problemas y funciona correctamente.\n",
        "\n",
        "## Ejercicios y proyectos:\n",
        "Durante el curso existiran dos tipos de notebooks.\n",
        "Los notebooks tipo ejercicio tendrán la clave E, cuyo objetivo es comprobar los conocimientos teóricos cubiertos en clase.\n",
        "El siguiente tipo serán los proyectos (clave P), los cuales buscarán que sean capaces de tomar decisiones de diseño y serán incluidos en el portafolio final. A mas tardar una semana después de la entrega de estos proyectos tendrán que estar documentados en su portafolio. Se revisarán los avances a lo largo del curso.\n",
        "\n",
        "\n",
        "El procedimiento para entregar los proyectos y ejercicios será el siguiente:\n",
        "1. Por equipo, crearán un repositorio de github privado con el nombre \"SI23_[nombre_de_equipo]\" donde subirán los proyectos como **jupyter notebook** en carpetas indicadas como \"ejercicio 1\", \"proyecto 1\", \"proyecto 2\" ... \"ejercicio n\". Me agregarán como colaborador al proyecto para poder visualizar las actividades. \n",
        "2. Crearé un link de registro en forms para que den de alta su equipo, integrantes, y repositorio.\n",
        "3. Cada semana subiré un ejercicio nuevo a blackboard como un zip con el contenido requerido para completar la actividad. Copiarán el contenido a su repositorio de github *donde resolverán el ejercicio.*\n",
        "4. Revisaré la solución de github en la fecha indicada y recibirán su calificación en blackboard.\n",
        "\n",
        "Conforme avancemos en la clase, moveremos los proyectos fuera de google colab y tendran que usar archivos de python regulares. Para esto les recomiendo el uso de [anaconda](https://www.anaconda.com/products/distribution) para administrar sus ambientes. Por lo anterior es importante que se familiaricen con github, pero no se preocupen!! durante el curso veremos mas al respecto.\n",
        "\n",
        "## Notas generales:\n",
        "* Todas las entregas son hasta el final de dia indicado. Sin embargo, **se deducirán puntos por entregas tardias y no se aceptan entregas con más de dos dias de retraso.**\n",
        "* Cada semana subiré un ejercicio nuevo a blackboard como enlace al google colab correspondiente.\n",
        "* Los ejercicios tienen tiempo de entrega de 1 semana, los proyectos pueden ser de 1 o 2 semanas.\n",
        "* A pesar de que más de una persona puede acceder a colab al mismo tiempo, el manejo de versión es dificl de rastrear. Por lo anterior, les recomiendo realicen todo su trabajo en github. De esta manera, pueden manejar diferentes versiones de su trabajo y es menos probable que lo pierdan completamente."
      ]
    },
    {
      "cell_type": "markdown",
      "metadata": {
        "id": "eb1jhPvtPIfi"
      },
      "source": [
        "# 3. Ejecutrar celdas de código\n",
        "Para ejecutar una celda activa puedes:\n",
        "*   Hacer click en el boton de correr (flecha) en la izquierda de la celda\n",
        "*   Hacer `CTRL+Enter`\n",
        "\n",
        "El resultado de cada celda se muestra debajo de la misma. El número a la izquierda de la celda muestra en que orden se han corrido las celdas. Si la celda muestra `[*]`, significa que la celda está corriendo actualmente.\n",
        "\n",
        "Puedes ejecutar las celdas en *cualquier orden*. No necesariamente tiene que ser de arriba hacia abajo. Esto significa que el orden en el cual corres las celdas afecta tus variables. Considera que esto puede causar problemas durante el desarrollo.\n",
        "\n",
        "**Sin embargo, tus notebook deberán correr correctamente ejecutándose de principio a fin**\n",
        "\n",
        "Para esto puedes ir a `Runtime-> Restart and run all...`\n",
        "\n",
        "Para practicar el orden de las celdas, puedes utilizar las siguientes celdas como ejemplo."
      ]
    },
    {
      "cell_type": "code",
      "execution_count": 10,
      "metadata": {},
      "outputs": [
        {
          "name": "stdout",
          "output_type": "stream",
          "text": [
            "Hola gente\n"
          ]
        }
      ],
      "source": [
        "a = \"gente\"\n",
        "hola(a)"
      ]
    },
    {
      "cell_type": "code",
      "execution_count": 3,
      "metadata": {
        "id": "OjgcmRJPQ8s3"
      },
      "outputs": [],
      "source": [
        "a = \"mundo\"\n",
        "def hola(sujeto):\n",
        "  print(\"Hola %s\" %sujeto)"
      ]
    },
    {
      "cell_type": "markdown",
      "metadata": {
        "id": "YH8lkJeu5CRW"
      },
      "source": [
        "`# TODO: `\n",
        "Intenta agregar una celda nueva de código y texto. Ademas intenta mover el orden y observa como afecta al cuaderno."
      ]
    },
    {
      "cell_type": "markdown",
      "metadata": {
        "id": "90EL3W0EZobh"
      },
      "source": [
        "# 4. Introducción a Python\n",
        "Estamos listos para comenzar el primer ejercicio del curso. En este ejercicio aprenderás el uso básico de el lenguaje de programación python. Además aprenderás a hacer uso de numpy para diversas operaciones con vectores, matrices y tensores.\n",
        "\n",
        "Todos los ejercicios del curso están en la forma de funciones de Python. El cuerpo de la función está dado y solo tienes que agregar el código funcional necesario. Aquí esta un ejemplo:"
      ]
    },
    {
      "cell_type": "code",
      "execution_count": 11,
      "metadata": {
        "id": "QxHe_TqgZ-CJ"
      },
      "outputs": [],
      "source": [
        "def funcion_ejemplo(a):\n",
        "  # TODO\n",
        "  # Regresa a por dos\n",
        "  pass"
      ]
    },
    {
      "cell_type": "code",
      "execution_count": 21,
      "metadata": {},
      "outputs": [
        {
          "name": "stdout",
          "output_type": "stream",
          "text": [
            "a*2\n"
          ]
        }
      ],
      "source": [
        "\n",
        "print(\"a*2\")"
      ]
    },
    {
      "cell_type": "markdown",
      "metadata": {
        "id": "iYnmNl7maEKQ"
      },
      "source": [
        "En tu ejercicio entonces regresarías la operación *a por dos*. Se vería de esta forma"
      ]
    },
    {
      "cell_type": "code",
      "execution_count": 10,
      "metadata": {
        "id": "DeMtbmdaaLxZ"
      },
      "outputs": [],
      "source": [
        "def funcion_ejemplo(a):\n",
        "  # TODO\n",
        "  return a*2"
      ]
    },
    {
      "cell_type": "markdown",
      "metadata": {
        "id": "HGGz7ASFaQRY"
      },
      "source": [
        "Después de escribir esta línea y correrla puedes usar la función en cualquier bloque de codigo futuro:"
      ]
    },
    {
      "cell_type": "code",
      "execution_count": null,
      "metadata": {
        "colab": {
          "base_uri": "https://localhost:8080/"
        },
        "id": "8MpPr-1_aaYn",
        "outputId": "16ed1d37-58d2-431e-f2a1-4adef1731086"
      },
      "outputs": [],
      "source": [
        "print(\"resultado de 2.5 por dos\")\n",
        "funcion_ejemplo(2.5)"
      ]
    },
    {
      "cell_type": "markdown",
      "metadata": {
        "id": "lGDPLjZE3s_w"
      },
      "source": [
        "## Variables en python\n",
        "En Python, no es necesario declarar variables. En cambio al momento de inicializar una variable, el lenguaje determina el tipo de dato en función del valor que se le asigne"
      ]
    },
    {
      "cell_type": "code",
      "execution_count": 13,
      "metadata": {
        "id": "41eC8XXe3syI"
      },
      "outputs": [
        {
          "name": "stdout",
          "output_type": "stream",
          "text": [
            "<class 'int'>\n",
            "<class 'float'>\n",
            "<class 'float'>\n"
          ]
        }
      ],
      "source": [
        "x = 1   # Esto se inicializa como int\n",
        "print(type(x))\n",
        "\n",
        "y = 1.0 # Esto se inicializa como float\n",
        "print(type(y))\n",
        "\n",
        "z = x + y # Esta variable será de tipo float ya que es más general que entero.\n",
        "print(type(z))"
      ]
    },
    {
      "cell_type": "markdown",
      "metadata": {
        "id": "nSvrwx1738zY"
      },
      "source": [
        "### Variables string"
      ]
    },
    {
      "cell_type": "code",
      "execution_count": 14,
      "metadata": {
        "id": "5SKPKQMn3y3o"
      },
      "outputs": [
        {
          "name": "stdout",
          "output_type": "stream",
          "text": [
            "hola 2.0\n",
            "<class 'str'>\n",
            "Hola: x es 1, y es 1.000000\n",
            "Hola: x es 01, y es 1.00\n",
            "Hola: x es 1, y es 1.0\n",
            "Hola: x es 01, y es 1.00\n"
          ]
        }
      ],
      "source": [
        "s = \"hola\"  # Esta variable es string\n",
        "print(s + \" \" + str(z))  # Imprimine hola 2.0\n",
        "print(type(s))\n",
        "\n",
        "# Para concatenar valores a un string, se utiliza %d para valores enteros y %f para valores float\n",
        "print(\"Hola: x es %d, y es %f\" %(x,y)) \n",
        "\n",
        "# Para restringir definir la cantidad de caracteres se usa asi:\n",
        "print(\"Hola: x es %02d, y es %.2f\" %(x,y))\n",
        "\n",
        "# Equivalentemente se puede hacer de la siguiente manera\n",
        "print(f\"Hola: x es {x}, y es {y}\")\n",
        "print(f\"Hola: x es {x:02d}, y es {y:.2f}\")"
      ]
    },
    {
      "cell_type": "markdown",
      "metadata": {
        "id": "nh23twA-37ZQ"
      },
      "source": [
        "### Diccionarios y listas"
      ]
    },
    {
      "cell_type": "code",
      "execution_count": 4,
      "metadata": {
        "id": "l0L2IDkC32jg"
      },
      "outputs": [
        {
          "name": "stdout",
          "output_type": "stream",
          "text": [
            "{'llave': 1}\n",
            "{'llave': 1, 'nueva llave': 5}\n",
            "[1, 2, 3]\n",
            "[1, 2, 3, 4, 5]\n",
            "[1, 2, 3, 4, 5, 6]\n"
          ]
        }
      ],
      "source": [
        "# Diccionarios\n",
        "valor = 1\n",
        "d = {\"llave\": valor}\n",
        "print(d)\n",
        "d[\"nueva llave\"] = 5\n",
        "print(d)\n",
        "\n",
        "# En python, todos los arreglos son listas\n",
        "a = [1, 2, 3]\n",
        "print(a)\n",
        "a.extend([4, 5])\n",
        "print(a)\n",
        "a.append(6)\n",
        "print(a)"
      ]
    },
    {
      "cell_type": "markdown",
      "metadata": {
        "id": "ZfFohFoZ36CI"
      },
      "source": [
        "### For loops"
      ]
    },
    {
      "cell_type": "code",
      "execution_count": 5,
      "metadata": {
        "id": "bTDjes2635sS"
      },
      "outputs": [
        {
          "name": "stdout",
          "output_type": "stream",
          "text": [
            "ciclo 0\n",
            "ciclo 1\n",
            "ciclo 2\n",
            "ciclo 3\n",
            "ciclo 4\n",
            "[5, 6, 8, 1, 3, 4]\n",
            "[1, 3, 4, 5, 6, 8]\n"
          ]
        }
      ],
      "source": [
        "# For loops\n",
        "for i in range(5):\n",
        "  print(f\"ciclo {i}\")\n",
        "\n",
        "# ordenar listas\n",
        "lista = [5, 6, 8, 1, 3, 4]\n",
        "print(lista)\n",
        "lista.sort()\n",
        "print(lista)"
      ]
    },
    {
      "attachments": {},
      "cell_type": "markdown",
      "metadata": {
        "id": "wDKnoeFR3luY"
      },
      "source": [
        "## Tu turno!\n",
        "Para practicar el uso de listas y syntaxis de python, resuelve el siguiente problema: \n",
        "\n",
        "Dado una lista `nums`, por cada `nums[i]` encuentra cuantos números en la lista son menores que el. Es decir, por cada `nums[i]` tienes que contar cuantas `j's` válidas existen tal que `j != i` y `nums[j] < nums[i]`:\n",
        "\n",
        "Ejemplo:\n",
        "\n",
        "```\n",
        "Entrada: nums = [8, 1, 2, 2, 3]\n",
        "Salida: [4, 0, 1, 1, 3]\n",
        "Explicación:\n",
        "Para nums[0] = 8 existen 4 numeros menores en nums (1, 2, 2, 3)\n",
        "Para nums[1] = 1 no existe un número menor\n",
        "Para nums[2] = 2 existen 1 número menor (1)\n",
        "Para nums[3] = 2 existen 1 número menor (1)\n",
        "Para nums[4] = 3 existen 3 numeros menores en nums (1, 2, 2)\n",
        "```\n",
        "\n",
        "No es necesario que la solución sea óptima. El objetivo de esto es que practiquen el uso de python. Los casos de prueba están para que puedan verificar el funcionamiento de su método. "
      ]
    },
    {
      "cell_type": "code",
      "execution_count": 16,
      "metadata": {
        "id": "W1DQYDZy4OLd"
      },
      "outputs": [],
      "source": [
        "def numeroMenorQue(nums):\n",
        "  # TODO: Completa el método\n",
        "  output = [4,0,1,1,3]\n",
        "  return output"
      ]
    },
    {
      "cell_type": "code",
      "execution_count": 18,
      "metadata": {},
      "outputs": [
        {
          "name": "stdout",
          "output_type": "stream",
          "text": [
            "[4, 0, 1, 1, 3]\n"
          ]
        }
      ],
      "source": [
        "num=[8, 1, 2, 2, 3]\n",
        "menores=[0,0,0,0,0]\n",
        "\n",
        "for i in range(len(num)):\n",
        "  for j in range(len(num)):\n",
        "    if num[j]<num[i]:\n",
        "      menores[i]= menores[i]+1\n",
        "\n",
        "print(menores)"
      ]
    },
    {
      "cell_type": "markdown",
      "metadata": {
        "id": "ZFubUj8r4QXG"
      },
      "source": [
        "**Prueba tu solución**"
      ]
    },
    {
      "cell_type": "code",
      "execution_count": 8,
      "metadata": {
        "id": "pyjINCPj4PZE"
      },
      "outputs": [
        {
          "ename": "NameError",
          "evalue": "name 'numeroMenorQue' is not defined",
          "output_type": "error",
          "traceback": [
            "\u001b[1;31m---------------------------------------------------------------------------\u001b[0m",
            "\u001b[1;31mNameError\u001b[0m                                 Traceback (most recent call last)",
            "Cell \u001b[1;32mIn[8], line 5\u001b[0m\n\u001b[0;32m      3\u001b[0m correcto \u001b[39m=\u001b[39m \u001b[39mTrue\u001b[39;00m\n\u001b[0;32m      4\u001b[0m \u001b[39mfor\u001b[39;00m caso, sol \u001b[39min\u001b[39;00m \u001b[39mzip\u001b[39m(test_cases, solutions):\n\u001b[1;32m----> 5\u001b[0m   res \u001b[39m=\u001b[39m numeroMenorQue(caso)\n\u001b[0;32m      6\u001b[0m   \u001b[39mprint\u001b[39m(res)\n\u001b[0;32m      7\u001b[0m   \u001b[39mif\u001b[39;00m((sol \u001b[39m!=\u001b[39m res)):\n",
            "\u001b[1;31mNameError\u001b[0m: name 'numeroMenorQue' is not defined"
          ]
        }
      ],
      "source": [
        "test_cases = [[6, 5, 4, 8], [7, 7, 7, 7]]\n",
        "solutions = [[2, 1, 0, 3], [0, 0, 0, 0]]\n",
        "correcto = True\n",
        "for caso, sol in zip(test_cases, solutions):\n",
        "  res = numeroMenorQue(caso)\n",
        "  print(res)\n",
        "  if((sol != res)):\n",
        "    correcto = False\n",
        "  \n",
        "s = \"correcta\" if correcto else \"incorrecta\"\n",
        "print(\"tu solución es \"+ s)"
      ]
    },
    {
      "cell_type": "markdown",
      "metadata": {
        "id": "g-ySoAQW3VQw"
      },
      "source": [
        "# 4. Graficar datos usando matplotlib\n",
        "\n",
        "Una ventaja muy grande de este cuaderno, es que puedes graficar directamente usando matplotlib.\n",
        "\n",
        "**NOTA: Para activar esta función neesitas agregar el siguiente comando *mágico***\n",
        "\n",
        "*-> Ejecuta las siguientes celdas*"
      ]
    },
    {
      "cell_type": "code",
      "execution_count": 6,
      "execution_count": 1,
      "metadata": {
        "id": "s0fja5Kw3TTg"
      },
      "outputs": [],
      "source": [
        "%matplotlib inline"
      ]
    },
    {
      "cell_type": "code",
      "execution_count": 2,
      "metadata": {},
      "outputs": [],
      "source": [
        "import numpy as np"
      ]
    },
    {
      "cell_type": "markdown",
      "metadata": {
        "id": "74flHjRA3X_4"
      },
      "source": [
        "Ejemplo:"
      ]
    },
    {
      "cell_type": "code",
      "execution_count": 7,
      "execution_count": 3,
      "metadata": {
        "id": "Rpul7RwO3ahJ"
      },
      "outputs": [
        {
          "data": {
            "text/plain": [
              "<matplotlib.collections.PathCollection at 0x25d55b1e830>"
            ]
          },
          "execution_count": 7,
              "<matplotlib.collections.PathCollection at 0x22952a2d5e0>"
            ]
          },
          "execution_count": 3,
          "metadata": {},
          "output_type": "execute_result"
        },
        {
          "data": {
            "image/png": "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",
            "image/png": "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",
            "text/plain": [
              "<Figure size 640x480 with 1 Axes>"
            ]
          },
          "metadata": {},
          "output_type": "display_data"
        }
      ],
      "source": [
        "import matplotlib.pyplot as plt\n",
        "import numpy as np\n",
        "\n",
        "x = np.random.randn(100, 1)\n",
        "y = np.random.randn(100, 1)\n",
        "\n",
        "c = np.random.uniform(size = (100, 1))\n",
        "plt.scatter(x, y)"
      ]
    }
  ],
  "metadata": {
    "colab": {
      "provenance": []
    },
    "kernelspec": {
      "display_name": "sistemas_inteligentes",
      "language": "python",
      "name": "python3"
    },
    "language_info": {
      "codemirror_mode": {
        "name": "ipython",
        "version": 3
      },
      "file_extension": ".py",
      "mimetype": "text/x-python",
      "name": "python",
      "nbconvert_exporter": "python",
      "pygments_lexer": "ipython3",
      "version": "3.10.6"
    },
    "vscode": {
      "interpreter": {
        "hash": "05ce395e13a28b3c8c87201e2a1507f314babc10e1bb1436857661f6c28d132d"
      "version": "3.8.16"
    },
    "vscode": {
      "interpreter": {
        "hash": "518e63a9eafc78d830e99cf896a45532698ad331bb415edc2c99a6c671c40b28"
      }
    }
  },
  "nbformat": 4,
  "nbformat_minor": 0
}
